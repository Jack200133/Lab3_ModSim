{
 "cells": [
  {
   "cell_type": "markdown",
   "metadata": {},
   "source": [
    "# PARTE 4 - Ejercicios sobre Generación de V.A P2\n",
    "\n",
    "## Task 1\n",
    "\n",
    "### Describa un algoritmo para generar V\n",
    "Para generar la variable aleatoria V con función de probabilidad acumulada F(x) descrita como:\n",
    "\n",
    "F(x) = Σ Pi * Fi(x) para i de 1 a n\n",
    "\n",
    "donde Pi es la probabilidad asociada a la función de probabilidad acumulada Fi(x) y n es el número total de funciones de probabilidad acumuladas que se están sumando, podemos utilizar el método de composición. El método de composición es un enfoque ampliamente utilizado para generar variables aleatorias a partir de funciones de probabilidad acumulada.\n",
    "\n",
    "Algoritmo para generar V utilizando el método de composición:\n",
    "\n",
    "* Paso 1: Generar una variable aleatoria discreta W con valores enteros entre 1 y n, de acuerdo con las probabilidades P1, P2, ..., Pn. Esto se puede hacer utilizando el método de la función de probabilidad inversa o cualquier otro método adecuado para generar variables aleatorias discretas con probabilidades dadas.\n",
    "\n",
    "* Paso 2: Una vez que tenemos el valor de W, generamos una variable aleatoria X con función de probabilidad acumulada Fi(x) correspondiente a la función Fi asociada al valor de W.\n",
    "\n",
    "* Paso 3: El valor generado V será el valor de X.\n",
    "\n",
    "### Demostracion de que el algoritmo genera V adecuadamente\n",
    "Para demostrar que el algoritmo genera V adecuadamente, debemos demostrar que la función de probabilidad acumulada de V es F(x).\n",
    "\n",
    "La función de probabilidad acumulada de V es:\n",
    "\n",
    "Fv(x) = P(V <= x) = P(X <= x | W = 1) * P(W = 1) + P(X <= x | W = 2) * P(W = 2) + ... + P(X <= x | W = n) * P(W = n)\n",
    "\n",
    "Como W es una variable aleatoria discreta, entonces:\n",
    "\n",
    "P(W = i) = Pi para i de 1 a n\n",
    "\n",
    "Por lo tanto, la función de probabilidad acumulada de V es:\n",
    "\n",
    "Fv(x) = P(X <= x | W = 1) * P1 + P(X <= x | W = 2) * P2 + ... + P(X <= x | W = n) * Pn\n",
    "\n",
    "Como X es una variable aleatoria continua, entonces:\n",
    "\n",
    "P(X <= x | W = i) = Fi(x) para i de 1 a n\n",
    "\n",
    "Por lo tanto, la función de probabilidad acumulada de V es:\n",
    "\n",
    "Fv(x) = F1(x) * P1 + F2(x) * P2 + ... + Fn(x) * Pn\n",
    "\n",
    "Como F(x) = Σ Pi * Fi(x) para i de 1 a n, entonces:\n",
    "\n",
    "Fv(x) = F(x)\n",
    "\n",
    "Por lo tanto, el algoritmo genera V adecuadamente.\n",
    "\n",
    "## Task 2"
   ]
  },
  {
   "cell_type": "code",
   "execution_count": 2,
   "metadata": {},
   "outputs": [
    {
     "name": "stdout",
     "output_type": "stream",
     "text": [
      "Variable aleatoria generada: 3\n"
     ]
    },
    {
     "data": {
      "image/png": "[encoded data removed]",
      "text/plain": [
       "<Figure size 640x480 with 1 Axes>"
      ]
     },
     "metadata": {},
     "output_type": "display_data"
    }
   ],
   "source": [
    "import matplotlib.pyplot as plt\n",
    "import random\n",
    "\n",
    "def generate_discrete_random_variable(probabilities):\n",
    "    # Verificar que las probabilidades sumen 1\n",
    "    if abs(sum(probabilities) - 1.0) > 1e-5:\n",
    "        raise ValueError(\"Las probabilidades deben sumar 1.\")\n",
    "\n",
    "    # Generar un número aleatorio entre 0 y 1\n",
    "    random_value = random.random()\n",
    "\n",
    "    # Encontrar el intervalo en el que cae el número aleatorio\n",
    "    cumulative_prob = 0.0\n",
    "    for i, prob in enumerate(probabilities):\n",
    "        cumulative_prob += prob\n",
    "        if random_value <= cumulative_prob:\n",
    "            return i + 1  # Devolver el valor de la variable aleatoria\n",
    "\n",
    "    # Si por alguna razón no se devuelve en el ciclo, retornar el último valor posible\n",
    "    return len(probabilities)\n",
    "\n",
    "# Ejemplo de distribución de probabilidad\n",
    "probabilities = [0.1, 0.2, 0.3, 0.15, 0.25]\n",
    "\n",
    "# Generar la variable aleatoria\n",
    "random_variable = generate_discrete_random_variable(probabilities)\n",
    "print(\"Variable aleatoria generada:\", random_variable)\n",
    "\n",
    "# Ejemplo de distribución de probabilidad\n",
    "probabilities = [0.1, 0.2, 0.3, 0.15, 0.25]\n",
    "\n",
    "# Generar una muestra de 1000 valores aleatorios\n",
    "sample_size = 1000\n",
    "random_samples = [generate_discrete_random_variable(probabilities) for _ in range(sample_size)]\n",
    "\n",
    "# Crear el histograma\n",
    "plt.hist(random_samples, bins=range(1, len(probabilities) + 2), align='left', rwidth=0.8)\n",
    "plt.xticks(range(1, len(probabilities) + 1))\n",
    "plt.xlabel(\"Valores de la variable aleatoria\")\n",
    "plt.ylabel(\"Frecuencia\")\n",
    "plt.title(\"Histograma de una distribución discreta\")\n",
    "plt.show()\n"
   ]
  },
  {
   "cell_type": "markdown",
   "metadata": {},
   "source": [
    "## Task 3\n"
   ]
  },
  {
   "cell_type": "code",
   "execution_count": 3,
   "metadata": {},
   "outputs": [
    {
     "name": "stdout",
     "output_type": "stream",
     "text": [
      "Promedio de VPN para el Proyecto Hotel con 100 iteraciones: 194.98\n",
      "Promedio de VPN para el Proyecto Hotel con 1000 iteraciones: 223.25\n",
      "Promedio de VPN para el Proyecto Hotel con 10000 iteraciones: 260.19\n",
      "Promedio de VPN para el Proyecto Centro Comercial con 100 iteraciones: 556.16\n",
      "Promedio de VPN para el Proyecto Centro Comercial con 1000 iteraciones: 506.32\n",
      "Promedio de VPN para el Proyecto Centro Comercial con 10000 iteraciones: 503.09\n"
     ]
    }
   ],
   "source": [
    "import random\n",
    "import numpy as np\n",
    "\n",
    "def generate_cash_flow_table_hotel():\n",
    "    return [-800,\n",
    "            np.random.normal(-800, 50),\n",
    "            np.random.normal(-800, 100),\n",
    "            np.random.normal(-700, 150),\n",
    "            np.random.normal(300, 200),\n",
    "            np.random.normal(400, 200),\n",
    "            np.random.normal(500, 200),\n",
    "            np.random.uniform(200, 8440)]\n",
    "\n",
    "def generate_cash_flow_table_centro_comercial():\n",
    "    return [-900,\n",
    "            np.random.normal(-600, 50),\n",
    "            np.random.normal(-200, 60),\n",
    "            np.random.normal(-600, 100),\n",
    "            np.random.normal(250, 150),\n",
    "            np.random.normal(350, 150),\n",
    "            np.random.normal(400, 150),\n",
    "            np.random.uniform(1600, 6000)]\n",
    "\n",
    "def calculate_present_value(cash_flows, discount_rate=0.10):\n",
    "    present_value = 0\n",
    "    for t, cash_flow in enumerate(cash_flows):\n",
    "        present_value += cash_flow / (1 + discount_rate) ** t\n",
    "    return present_value\n",
    "\n",
    "def simulate_project(project_cash_flow_func, iterations):\n",
    "    npvs = []\n",
    "    for _ in range(iterations):\n",
    "        cash_flows = project_cash_flow_func()\n",
    "        npv = calculate_present_value(cash_flows)\n",
    "        npvs.append(npv)\n",
    "    return npvs\n",
    "\n",
    "# Simulaciones con 100, 1,000 y 10,000 iteraciones para el Proyecto Hotel\n",
    "iterations_list = [100, 1000, 10000]\n",
    "for iterations in iterations_list:\n",
    "    npvs_hotel = simulate_project(generate_cash_flow_table_hotel, iterations)\n",
    "    average_npv_hotel = np.mean(npvs_hotel)\n",
    "    print(f\"Promedio de VPN para el Proyecto Hotel con {iterations} iteraciones: {average_npv_hotel:.2f}\")\n",
    "\n",
    "# Simulaciones con 100, 1,000 y 10,000 iteraciones para el Proyecto Centro Comercial\n",
    "for iterations in iterations_list:\n",
    "    npvs_centro_comercial = simulate_project(generate_cash_flow_table_centro_comercial, iterations)\n",
    "    average_npv_centro_comercial = np.mean(npvs_centro_comercial)\n",
    "    print(f\"Promedio de VPN para el Proyecto Centro Comercial con {iterations} iteraciones: {average_npv_centro_comercial:.2f}\")\n"
   ]
  }
 ],
 "metadata": {
  "kernelspec": {
   "display_name": "lab3",
   "language": "python",
   "name": "python3"
  },
  "language_info": {
   "codemirror_mode": {
    "name": "ipython",
    "version": 3
   },
   "file_extension": ".py",
   "mimetype": "text/x-python",
   "name": "python",
   "nbconvert_exporter": "python",
   "pygments_lexer": "ipython3",
   "version": "3.11.4"
  },
  "orig_nbformat": 4
 },
 "nbformat": 4,
 "nbformat_minor": 2
}
